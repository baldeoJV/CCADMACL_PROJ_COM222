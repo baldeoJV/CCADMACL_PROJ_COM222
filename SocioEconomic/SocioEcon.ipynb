{
 "cells": [
  {
   "cell_type": "markdown",
   "metadata": {},
   "source": [
    "SOCIO ECONOMIC HEALTH DISPARITY"
   ]
  },
  {
   "cell_type": "code",
   "execution_count": 9,
   "metadata": {},
   "outputs": [
    {
     "name": "stdout",
     "output_type": "stream",
     "text": [
      "Final dataset saved as 'NHANES_SES_HealthClusters.csv'\n"
     ]
    }
   ],
   "source": [
    "import pandas as pd\n",
    "from sklearn.preprocessing import StandardScaler\n",
    "\n",
    "# Load NHANES datasets\n",
    "files = {\n",
    "    \"DEMO_L\": \"DEMO_L.XPT\",    # Demographics\n",
    "    \"BMX_L\": \"BMX_L.XPT\",      # Body Measures\n",
    "    \"BPX_L\": \"BPXO_L.XPT\",      # Blood Pressure\n",
    "    \"DIQ_L\": \"DIQ_L.XPT\",      # Diabetes\n",
    "    \"MCQ_L\": \"MCQ_L.XPT\",      # Cardiovascular Disease\n",
    "    \"GLU_L\": \"GLU_L.XPT\",      # Glucose\n",
    "    \"INS_L\": \"INS_L.XPT\",      # Insulin\n",
    "    \"HSCRP_L\": \"HSCRP_L.XPT\",  # High-Sensitivity C-Reactive Protein\n",
    "    \"TCHOL_L\": \"TCHOL_L.XPT\",  # Total Cholesterol\n",
    "    \"PAQ_L\": \"PAQ_L.XPT\"       # Physical Activity\n",
    "}\n",
    "\n",
    "dataframes = {name: pd.read_sas(f\"{filename}\", format=\"xport\") for name, filename in files.items()}\n",
    "\n",
    "# Merge datasets on 'SEQN'\n",
    "df = dataframes[\"DEMO_L\"]\n",
    "for name, df_other in dataframes.items():\n",
    "    if name != \"DEMO_L\":\n",
    "        df = df.merge(df_other, on=\"SEQN\", how=\"inner\")\n",
    "\n",
    "# Select relevant columns\n",
    "selected_columns = [\n",
    "    \"SEQN\", \"RIDAGEYR\", \"RIAGENDR\", \"RIDRETH3\", \"DMDEDUC2\", \"INDFMPIR\",  # Socioeconomic & Demographics\n",
    "    \"BMXBMI\", \"BMXWAIST\",  # Body Measures\n",
    "    \"BPXSY1\", \"BPXDI1\",  # Blood Pressure\n",
    "    \"DIQ010\", \"MCQ160E\",  # Diabetes & CVD\n",
    "    \"LBXGLU\", \"LBXINS\", \"LBXHSCRP\", \"LBXTC\",  # Lab results\n",
    "    \"PAD790Q\", \"PAD790U\", \"PAD800\", \"PAD810Q\", \"PAD810U\", \"PAD820\"  # Physical Activity\n",
    "]\n",
    "df = df[[col for col in selected_columns if col in df.columns]]\n",
    "\n",
    "# Convert non-numeric columns to NaN before computing median\n",
    "for col in df.columns:\n",
    "    df[col] = pd.to_numeric(df[col], errors='coerce')\n",
    "\n",
    "# Handle missing values: Fill NaNs with column medians\n",
    "df.fillna(df.median(), inplace=True)\n",
    "\n",
    "# Normalize numerical features for clustering\n",
    "numeric_features = [\"BMXBMI\", \"BMXWAIST\", \"BPXSY1\", \"BPXDI1\", \"LBXGLU\", \"LBXINS\", \"LBXHSCRP\", \"LBXTC\"]\n",
    "numeric_features = [col for col in numeric_features if col in df.columns]\n",
    "scaler = StandardScaler()\n",
    "df[numeric_features] = scaler.fit_transform(df[numeric_features])\n",
    "\n",
    "# Save final dataset\n",
    "df.to_csv(\"NHANES_SES_HealthClusters.csv\", index=False)\n",
    "print(\"Final dataset saved as 'NHANES_SES_HealthClusters.csv'\")\n"
   ]
  }
 ],
 "metadata": {
  "kernelspec": {
   "display_name": "trainingArc",
   "language": "python",
   "name": "python3"
  },
  "language_info": {
   "codemirror_mode": {
    "name": "ipython",
    "version": 3
   },
   "file_extension": ".py",
   "mimetype": "text/x-python",
   "name": "python",
   "nbconvert_exporter": "python",
   "pygments_lexer": "ipython3",
   "version": "3.12.4"
  }
 },
 "nbformat": 4,
 "nbformat_minor": 2
}
