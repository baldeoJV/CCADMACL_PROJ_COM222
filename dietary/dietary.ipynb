{
 "cells": [
  {
   "cell_type": "code",
   "execution_count": null,
   "metadata": {
    "vscode": {
     "languageId": "plaintext"
    }
   },
   "outputs": [],
   "source": [
    "Data Sources (NHANES Variables)\n",
    "\n",
    "Dietary Data:\n",
    "\n",
    "Total energy intake (kcal) \n",
    "Macronutrient distribution (carbohydrates, proteins, fats) \n",
    "Micronutrient intake (vitamins, minerals) \n",
    "Food group consumption (fruits, vegetables, dairy, meat, grains)\n",
    "\n",
    "\n",
    "Health & Biomarkers:\n",
    "\n",
    "BMI, waist circumference\n",
    "Blood glucose, HbA1c (diabetes risk)\n",
    "Cholesterol levels (LDL, HDL, triglycerides)\n",
    "Blood pressure\n",
    "\n",
    "\n",
    "Lifestyle & Demographics:\n",
    "\n",
    "Physical activity levels\n",
    "Smoking and alcohol consumption\n",
    "Age, sex, ethnicity, socioeconomic status"
   ]
  }
 ],
 "metadata": {
  "language_info": {
   "name": "python"
  }
 },
 "nbformat": 4,
 "nbformat_minor": 2
}
