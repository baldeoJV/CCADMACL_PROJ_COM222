{
 "cells": [
  {
   "cell_type": "code",
   "execution_count": 1,
   "metadata": {},
   "outputs": [],
   "source": [
    "# Data Sources (NHANES Variables)\n",
    "\n",
    "# Dietary Data:\n",
    "\n",
    "# Total energy intake (kcal) \n",
    "# Macronutrient distribution (carbohydrates, proteins, fats) \n",
    "# Micronutrient intake (vitamins, minerals) \n",
    "# Food group consumption (fruits, vegetables, dairy, meat, grains)\n",
    "\n",
    "\n",
    "# Health & Biomarkers:\n",
    "\n",
    "# BMI, waist circumference\n",
    "# Blood glucose, HbA1c (diabetes risk)\n",
    "# Cholesterol levels (LDL, HDL, triglycerides)\n",
    "# Blood pressure\n",
    "\n",
    "\n",
    "# Lifestyle & Demographics:\n",
    "\n",
    "# Physical activity levels\n",
    "# Smoking and alcohol consumption\n",
    "# Age, sex, ethnicity, socioeconomic status"
   ]
  },
  {
   "cell_type": "markdown",
   "metadata": {},
   "source": [
    "\"Clustering-Based Dietary Profiling for Personalized Nutrition Recommendations: An Unsupervised Learning Approach Using NHANES Data\"\n",
    "\n",
    "This study aims to identify distinct dietary clusters among NHANES participants using unsupervised learning techniques (e.g., K-Means, Hierarchical Clustering, or DBSCAN) based on nutrient intake (DR1TOT_L, DR2TOT_L) and diet behavior data (DBQ_L). It will analyze the health outcomes associated with these clusters (e.g., obesity, diabetes risk) to develop data-driven personalized dietary recommendations."
   ]
  },
  {
   "cell_type": "code",
   "execution_count": 2,
   "metadata": {},
   "outputs": [
    {
     "name": "stdout",
     "output_type": "stream",
     "text": [
      "Final dataset saved as 'NHANES_2021_Dietary_Clustering.csv'\n"
     ]
    }
   ],
   "source": [
    "import pandas as pd\n",
    "from sklearn.preprocessing import StandardScaler\n",
    "\n",
    "# Load NHANES datasets\n",
    "dataframes = {\n",
    "    \"DR1TOT_L\": pd.read_sas(\"DR1TOT_L.xpt\", format=\"xport\"),  # Day 1 Total Nutrient Intakes\n",
    "    \"DR2TOT_L\": pd.read_sas(\"DR2TOT_L.xpt\", format=\"xport\"),  # Day 2 Total Nutrient Intakes\n",
    "    \"DBQ_L\": pd.read_sas(\"DBQ_L.xpt\", format=\"xport\"),  # Diet Behavior & Nutrition\n",
    "    \"DEMO_L\": pd.read_sas(\"DEMO_L.xpt\", format=\"xport\"),  # Demographics\n",
    "    \"BMX_L\": pd.read_sas(\"BMX_L.xpt\", format=\"xport\"),  # Body Measures (BMI)\n",
    "    \"DIQ_L\": pd.read_sas(\"DIQ_L.xpt\", format=\"xport\")  # Diabetes\n",
    "}\n",
    "\n",
    "# Convert byte-string columns to standard string format\n",
    "def decode_bytes(df):\n",
    "    for col in df.select_dtypes(include=['object']):\n",
    "        df[col] = df[col].apply(lambda x: x.decode('utf-8') if isinstance(x, bytes) else x)\n",
    "    return df\n",
    "\n",
    "dataframes = {name: decode_bytes(df) for name, df in dataframes.items()}\n",
    "\n",
    "# Merge datasets on 'SEQN' (Unique Participant ID)\n",
    "df = dataframes[\"DR1TOT_L\"]\n",
    "for name, df_other in dataframes.items():\n",
    "    if name != \"DR1TOT_L\":\n",
    "        df = df.merge(df_other, on=\"SEQN\", how=\"inner\")\n",
    "\n",
    "# Select relevant features\n",
    "final_columns = [\n",
    "    \"SEQN\",  # Unique ID\n",
    "    \"DR1TKCAL\", \"DR1TPROT\", \"DR1TCARB\", \"DR1TSUGR\", \"DR1TFIBE\", \"DR1TTFAT\", \"DR1TSFAT\", \"DR1TMFAT\", \"DR1TPFAT\",  # Day 1 Nutrients\n",
    "    \"DR2TKCAL\", \"DR2TPROT\", \"DR2TCARB\", \"DR2TSUGR\", \"DR2TFIBE\", \"DR2TTFAT\", \"DR2TSFAT\", \"DR2TMFAT\", \"DR2TPFAT\",  # Day 2 Nutrients\n",
    "    \"DBQ700\", \"DBQ197\",  # Dietary Behavior\n",
    "    \"RIDAGEYR\", \"RIAGENDR\", \"INDFMPIR\",  # Demographics & Socioeconomic\n",
    "    \"BMXBMI\",  # BMI\n",
    "    \"DIQ010\"  # Diabetes status\n",
    "]\n",
    "\n",
    "# Retain only available columns\n",
    "df = df[[col for col in final_columns if col in df.columns]]\n",
    "\n",
    "# Convert non-numeric values to NaN before computing median\n",
    "for col in df.columns:\n",
    "    df[col] = pd.to_numeric(df[col], errors='coerce')\n",
    "\n",
    "# Handle missing values: Fill NaNs with column medians\n",
    "df.fillna(df.median(), inplace=True)\n",
    "\n",
    "# Normalize numerical features for clustering\n",
    "numeric_features = [col for col in df.columns if col not in [\"SEQN\", \"RIAGENDR\", \"DIQ010\"]]\n",
    "scaler = StandardScaler()\n",
    "df[numeric_features] = scaler.fit_transform(df[numeric_features])\n",
    "\n",
    "# Save final dataset\n",
    "df.to_csv(\"NHANES_2021_Dietary_Clustering.csv\", index=False)\n",
    "\n",
    "print(\"Final dataset saved as 'NHANES_2021_Dietary_Clustering.csv'\")\n"
   ]
  }
 ],
 "metadata": {
  "kernelspec": {
   "display_name": "trainingArc",
   "language": "python",
   "name": "python3"
  },
  "language_info": {
   "codemirror_mode": {
    "name": "ipython",
    "version": 3
   },
   "file_extension": ".py",
   "mimetype": "text/x-python",
   "name": "python",
   "nbconvert_exporter": "python",
   "pygments_lexer": "ipython3",
   "version": "3.12.4"
  }
 },
 "nbformat": 4,
 "nbformat_minor": 2
}
