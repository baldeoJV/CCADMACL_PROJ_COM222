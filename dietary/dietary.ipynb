{
 "cells": [
  {
   "cell_type": "code",
   "execution_count": 1,
   "metadata": {},
   "outputs": [],
   "source": [
    "# Data Sources (NHANES Variables)\n",
    "\n",
    "# Dietary Data:\n",
    "\n",
    "# Total energy intake (kcal) \n",
    "# Macronutrient distribution (carbohydrates, proteins, fats) \n",
    "# Micronutrient intake (vitamins, minerals) \n",
    "# Food group consumption (fruits, vegetables, dairy, meat, grains)\n",
    "\n",
    "\n",
    "# Health & Biomarkers:\n",
    "\n",
    "# BMI, waist circumference\n",
    "# Blood glucose, HbA1c (diabetes risk)\n",
    "# Cholesterol levels (LDL, HDL, triglycerides)\n",
    "# Blood pressure\n",
    "\n",
    "\n",
    "# Lifestyle & Demographics:\n",
    "\n",
    "# Physical activity levels\n",
    "# Smoking and alcohol consumption\n",
    "# Age, sex, ethnicity, socioeconomic status"
   ]
  },
  {
   "cell_type": "code",
   "execution_count": null,
   "metadata": {},
   "outputs": [
    {
     "ename": "FileNotFoundError",
     "evalue": "[Errno 2] No such file or directory: '/mnt/data/DR1TOT_L.xpt'",
     "output_type": "error",
     "traceback": [
      "\u001b[1;31m---------------------------------------------------------------------------\u001b[0m",
      "\u001b[1;31mFileNotFoundError\u001b[0m                         Traceback (most recent call last)",
      "Cell \u001b[1;32mIn[2], line 6\u001b[0m\n\u001b[0;32m      2\u001b[0m \u001b[38;5;28;01mfrom\u001b[39;00m \u001b[38;5;21;01msklearn\u001b[39;00m\u001b[38;5;21;01m.\u001b[39;00m\u001b[38;5;21;01mpreprocessing\u001b[39;00m \u001b[38;5;28;01mimport\u001b[39;00m StandardScaler\n\u001b[0;32m      4\u001b[0m \u001b[38;5;66;03m# Load NHANES datasets\u001b[39;00m\n\u001b[0;32m      5\u001b[0m dataframes \u001b[38;5;241m=\u001b[39m {\n\u001b[1;32m----> 6\u001b[0m     \u001b[38;5;124m\"\u001b[39m\u001b[38;5;124mDR1TOT_L\u001b[39m\u001b[38;5;124m\"\u001b[39m: \u001b[43mpd\u001b[49m\u001b[38;5;241;43m.\u001b[39;49m\u001b[43mread_sas\u001b[49m\u001b[43m(\u001b[49m\u001b[38;5;124;43m\"\u001b[39;49m\u001b[38;5;124;43m/mnt/data/DR1TOT_L.xpt\u001b[39;49m\u001b[38;5;124;43m\"\u001b[39;49m\u001b[43m,\u001b[49m\u001b[43m \u001b[49m\u001b[38;5;28;43mformat\u001b[39;49m\u001b[38;5;241;43m=\u001b[39;49m\u001b[38;5;124;43m\"\u001b[39;49m\u001b[38;5;124;43mxport\u001b[39;49m\u001b[38;5;124;43m\"\u001b[39;49m\u001b[43m)\u001b[49m,  \u001b[38;5;66;03m# Day 1 Total Nutrient Intakes\u001b[39;00m\n\u001b[0;32m      7\u001b[0m     \u001b[38;5;124m\"\u001b[39m\u001b[38;5;124mDR2TOT_L\u001b[39m\u001b[38;5;124m\"\u001b[39m: pd\u001b[38;5;241m.\u001b[39mread_sas(\u001b[38;5;124m\"\u001b[39m\u001b[38;5;124m/mnt/data/DR2TOT_L.xpt\u001b[39m\u001b[38;5;124m\"\u001b[39m, \u001b[38;5;28mformat\u001b[39m\u001b[38;5;241m=\u001b[39m\u001b[38;5;124m\"\u001b[39m\u001b[38;5;124mxport\u001b[39m\u001b[38;5;124m\"\u001b[39m),  \u001b[38;5;66;03m# Day 2 Total Nutrient Intakes\u001b[39;00m\n\u001b[0;32m      8\u001b[0m     \u001b[38;5;124m\"\u001b[39m\u001b[38;5;124mDBQ_L\u001b[39m\u001b[38;5;124m\"\u001b[39m: pd\u001b[38;5;241m.\u001b[39mread_sas(\u001b[38;5;124m\"\u001b[39m\u001b[38;5;124m/mnt/data/DBQ_L.xpt\u001b[39m\u001b[38;5;124m\"\u001b[39m, \u001b[38;5;28mformat\u001b[39m\u001b[38;5;241m=\u001b[39m\u001b[38;5;124m\"\u001b[39m\u001b[38;5;124mxport\u001b[39m\u001b[38;5;124m\"\u001b[39m),  \u001b[38;5;66;03m# Diet Behavior & Nutrition\u001b[39;00m\n\u001b[0;32m      9\u001b[0m     \u001b[38;5;124m\"\u001b[39m\u001b[38;5;124mDEMO_L\u001b[39m\u001b[38;5;124m\"\u001b[39m: pd\u001b[38;5;241m.\u001b[39mread_sas(\u001b[38;5;124m\"\u001b[39m\u001b[38;5;124m/mnt/data/DEMO_L.xpt\u001b[39m\u001b[38;5;124m\"\u001b[39m, \u001b[38;5;28mformat\u001b[39m\u001b[38;5;241m=\u001b[39m\u001b[38;5;124m\"\u001b[39m\u001b[38;5;124mxport\u001b[39m\u001b[38;5;124m\"\u001b[39m),  \u001b[38;5;66;03m# Demographics\u001b[39;00m\n\u001b[0;32m     10\u001b[0m     \u001b[38;5;124m\"\u001b[39m\u001b[38;5;124mBMX_L\u001b[39m\u001b[38;5;124m\"\u001b[39m: pd\u001b[38;5;241m.\u001b[39mread_sas(\u001b[38;5;124m\"\u001b[39m\u001b[38;5;124m/mnt/data/BMX_L.xpt\u001b[39m\u001b[38;5;124m\"\u001b[39m, \u001b[38;5;28mformat\u001b[39m\u001b[38;5;241m=\u001b[39m\u001b[38;5;124m\"\u001b[39m\u001b[38;5;124mxport\u001b[39m\u001b[38;5;124m\"\u001b[39m),  \u001b[38;5;66;03m# Body Measures (BMI)\u001b[39;00m\n\u001b[0;32m     11\u001b[0m     \u001b[38;5;124m\"\u001b[39m\u001b[38;5;124mDIQ_L\u001b[39m\u001b[38;5;124m\"\u001b[39m: pd\u001b[38;5;241m.\u001b[39mread_sas(\u001b[38;5;124m\"\u001b[39m\u001b[38;5;124m/mnt/data/DIQ_L.xpt\u001b[39m\u001b[38;5;124m\"\u001b[39m, \u001b[38;5;28mformat\u001b[39m\u001b[38;5;241m=\u001b[39m\u001b[38;5;124m\"\u001b[39m\u001b[38;5;124mxport\u001b[39m\u001b[38;5;124m\"\u001b[39m)  \u001b[38;5;66;03m# Diabetes\u001b[39;00m\n\u001b[0;32m     12\u001b[0m }\n\u001b[0;32m     14\u001b[0m \u001b[38;5;66;03m# Convert byte-string columns to standard string format\u001b[39;00m\n\u001b[0;32m     15\u001b[0m \u001b[38;5;28;01mdef\u001b[39;00m \u001b[38;5;21mdecode_bytes\u001b[39m(df):\n",
      "File \u001b[1;32mc:\\Users\\Vernon\\miniconda3\\envs\\trainingArc\\Lib\\site-packages\\pandas\\io\\sas\\sasreader.py:154\u001b[0m, in \u001b[0;36mread_sas\u001b[1;34m(filepath_or_buffer, format, index, encoding, chunksize, iterator, compression)\u001b[0m\n\u001b[0;32m    151\u001b[0m \u001b[38;5;28;01mif\u001b[39;00m \u001b[38;5;28mformat\u001b[39m\u001b[38;5;241m.\u001b[39mlower() \u001b[38;5;241m==\u001b[39m \u001b[38;5;124m\"\u001b[39m\u001b[38;5;124mxport\u001b[39m\u001b[38;5;124m\"\u001b[39m:\n\u001b[0;32m    152\u001b[0m     \u001b[38;5;28;01mfrom\u001b[39;00m \u001b[38;5;21;01mpandas\u001b[39;00m\u001b[38;5;21;01m.\u001b[39;00m\u001b[38;5;21;01mio\u001b[39;00m\u001b[38;5;21;01m.\u001b[39;00m\u001b[38;5;21;01msas\u001b[39;00m\u001b[38;5;21;01m.\u001b[39;00m\u001b[38;5;21;01msas_xport\u001b[39;00m \u001b[38;5;28;01mimport\u001b[39;00m XportReader\n\u001b[1;32m--> 154\u001b[0m     reader \u001b[38;5;241m=\u001b[39m \u001b[43mXportReader\u001b[49m\u001b[43m(\u001b[49m\n\u001b[0;32m    155\u001b[0m \u001b[43m        \u001b[49m\u001b[43mfilepath_or_buffer\u001b[49m\u001b[43m,\u001b[49m\n\u001b[0;32m    156\u001b[0m \u001b[43m        \u001b[49m\u001b[43mindex\u001b[49m\u001b[38;5;241;43m=\u001b[39;49m\u001b[43mindex\u001b[49m\u001b[43m,\u001b[49m\n\u001b[0;32m    157\u001b[0m \u001b[43m        \u001b[49m\u001b[43mencoding\u001b[49m\u001b[38;5;241;43m=\u001b[39;49m\u001b[43mencoding\u001b[49m\u001b[43m,\u001b[49m\n\u001b[0;32m    158\u001b[0m \u001b[43m        \u001b[49m\u001b[43mchunksize\u001b[49m\u001b[38;5;241;43m=\u001b[39;49m\u001b[43mchunksize\u001b[49m\u001b[43m,\u001b[49m\n\u001b[0;32m    159\u001b[0m \u001b[43m        \u001b[49m\u001b[43mcompression\u001b[49m\u001b[38;5;241;43m=\u001b[39;49m\u001b[43mcompression\u001b[49m\u001b[43m,\u001b[49m\n\u001b[0;32m    160\u001b[0m \u001b[43m    \u001b[49m\u001b[43m)\u001b[49m\n\u001b[0;32m    161\u001b[0m \u001b[38;5;28;01melif\u001b[39;00m \u001b[38;5;28mformat\u001b[39m\u001b[38;5;241m.\u001b[39mlower() \u001b[38;5;241m==\u001b[39m \u001b[38;5;124m\"\u001b[39m\u001b[38;5;124msas7bdat\u001b[39m\u001b[38;5;124m\"\u001b[39m:\n\u001b[0;32m    162\u001b[0m     \u001b[38;5;28;01mfrom\u001b[39;00m \u001b[38;5;21;01mpandas\u001b[39;00m\u001b[38;5;21;01m.\u001b[39;00m\u001b[38;5;21;01mio\u001b[39;00m\u001b[38;5;21;01m.\u001b[39;00m\u001b[38;5;21;01msas\u001b[39;00m\u001b[38;5;21;01m.\u001b[39;00m\u001b[38;5;21;01msas7bdat\u001b[39;00m \u001b[38;5;28;01mimport\u001b[39;00m SAS7BDATReader\n",
      "File \u001b[1;32mc:\\Users\\Vernon\\miniconda3\\envs\\trainingArc\\Lib\\site-packages\\pandas\\io\\sas\\sas_xport.py:270\u001b[0m, in \u001b[0;36mXportReader.__init__\u001b[1;34m(self, filepath_or_buffer, index, encoding, chunksize, compression)\u001b[0m\n\u001b[0;32m    267\u001b[0m \u001b[38;5;28mself\u001b[39m\u001b[38;5;241m.\u001b[39m_index \u001b[38;5;241m=\u001b[39m index\n\u001b[0;32m    268\u001b[0m \u001b[38;5;28mself\u001b[39m\u001b[38;5;241m.\u001b[39m_chunksize \u001b[38;5;241m=\u001b[39m chunksize\n\u001b[1;32m--> 270\u001b[0m \u001b[38;5;28mself\u001b[39m\u001b[38;5;241m.\u001b[39mhandles \u001b[38;5;241m=\u001b[39m \u001b[43mget_handle\u001b[49m\u001b[43m(\u001b[49m\n\u001b[0;32m    271\u001b[0m \u001b[43m    \u001b[49m\u001b[43mfilepath_or_buffer\u001b[49m\u001b[43m,\u001b[49m\n\u001b[0;32m    272\u001b[0m \u001b[43m    \u001b[49m\u001b[38;5;124;43m\"\u001b[39;49m\u001b[38;5;124;43mrb\u001b[39;49m\u001b[38;5;124;43m\"\u001b[39;49m\u001b[43m,\u001b[49m\n\u001b[0;32m    273\u001b[0m \u001b[43m    \u001b[49m\u001b[43mencoding\u001b[49m\u001b[38;5;241;43m=\u001b[39;49m\u001b[43mencoding\u001b[49m\u001b[43m,\u001b[49m\n\u001b[0;32m    274\u001b[0m \u001b[43m    \u001b[49m\u001b[43mis_text\u001b[49m\u001b[38;5;241;43m=\u001b[39;49m\u001b[38;5;28;43;01mFalse\u001b[39;49;00m\u001b[43m,\u001b[49m\n\u001b[0;32m    275\u001b[0m \u001b[43m    \u001b[49m\u001b[43mcompression\u001b[49m\u001b[38;5;241;43m=\u001b[39;49m\u001b[43mcompression\u001b[49m\u001b[43m,\u001b[49m\n\u001b[0;32m    276\u001b[0m \u001b[43m\u001b[49m\u001b[43m)\u001b[49m\n\u001b[0;32m    277\u001b[0m \u001b[38;5;28mself\u001b[39m\u001b[38;5;241m.\u001b[39mfilepath_or_buffer \u001b[38;5;241m=\u001b[39m \u001b[38;5;28mself\u001b[39m\u001b[38;5;241m.\u001b[39mhandles\u001b[38;5;241m.\u001b[39mhandle\n\u001b[0;32m    279\u001b[0m \u001b[38;5;28;01mtry\u001b[39;00m:\n",
      "File \u001b[1;32mc:\\Users\\Vernon\\miniconda3\\envs\\trainingArc\\Lib\\site-packages\\pandas\\io\\common.py:882\u001b[0m, in \u001b[0;36mget_handle\u001b[1;34m(path_or_buf, mode, encoding, compression, memory_map, is_text, errors, storage_options)\u001b[0m\n\u001b[0;32m    873\u001b[0m         handle \u001b[38;5;241m=\u001b[39m \u001b[38;5;28mopen\u001b[39m(\n\u001b[0;32m    874\u001b[0m             handle,\n\u001b[0;32m    875\u001b[0m             ioargs\u001b[38;5;241m.\u001b[39mmode,\n\u001b[1;32m   (...)\u001b[0m\n\u001b[0;32m    878\u001b[0m             newline\u001b[38;5;241m=\u001b[39m\u001b[38;5;124m\"\u001b[39m\u001b[38;5;124m\"\u001b[39m,\n\u001b[0;32m    879\u001b[0m         )\n\u001b[0;32m    880\u001b[0m     \u001b[38;5;28;01melse\u001b[39;00m:\n\u001b[0;32m    881\u001b[0m         \u001b[38;5;66;03m# Binary mode\u001b[39;00m\n\u001b[1;32m--> 882\u001b[0m         handle \u001b[38;5;241m=\u001b[39m \u001b[38;5;28;43mopen\u001b[39;49m\u001b[43m(\u001b[49m\u001b[43mhandle\u001b[49m\u001b[43m,\u001b[49m\u001b[43m \u001b[49m\u001b[43mioargs\u001b[49m\u001b[38;5;241;43m.\u001b[39;49m\u001b[43mmode\u001b[49m\u001b[43m)\u001b[49m\n\u001b[0;32m    883\u001b[0m     handles\u001b[38;5;241m.\u001b[39mappend(handle)\n\u001b[0;32m    885\u001b[0m \u001b[38;5;66;03m# Convert BytesIO or file objects passed with an encoding\u001b[39;00m\n",
      "\u001b[1;31mFileNotFoundError\u001b[0m: [Errno 2] No such file or directory: '/mnt/data/DR1TOT_L.xpt'"
     ]
    }
   ],
   "source": [
    "import pandas as pd\n",
    "from sklearn.preprocessing import StandardScaler\n",
    "\n",
    "# Load NHANES datasets\n",
    "dataframes = {\n",
    "    \"DR1TOT_L\": pd.read_sas(\"DR1TOT_L.xpt\", format=\"xport\"),  # Day 1 Total Nutrient Intakes\n",
    "    \"DR2TOT_L\": pd.read_sas(\"DR2TOT_L.xpt\", format=\"xport\"),  # Day 2 Total Nutrient Intakes\n",
    "    \"DBQ_L\": pd.read_sas(\"DBQ_L.xpt\", format=\"xport\"),  # Diet Behavior & Nutrition\n",
    "    \"DEMO_L\": pd.read_sas(\"DEMO_L.xpt\", format=\"xport\"),  # Demographics\n",
    "    \"BMX_L\": pd.read_sas(\"BMX_L.xpt\", format=\"xport\"),  # Body Measures (BMI)\n",
    "    \"DIQ_L\": pd.read_sas(\"DIQ_L.xpt\", format=\"xport\")  # Diabetes\n",
    "}\n",
    "\n",
    "# Convert byte-string columns to standard string format\n",
    "def decode_bytes(df):\n",
    "    for col in df.select_dtypes(include=['object']):\n",
    "        df[col] = df[col].apply(lambda x: x.decode('utf-8') if isinstance(x, bytes) else x)\n",
    "    return df\n",
    "\n",
    "dataframes = {name: decode_bytes(df) for name, df in dataframes.items()}\n",
    "\n",
    "# Merge datasets on 'SEQN' (Unique Participant ID)\n",
    "df = dataframes[\"DR1TOT_L\"]\n",
    "for name, df_other in dataframes.items():\n",
    "    if name != \"DR1TOT_L\":\n",
    "        df = df.merge(df_other, on=\"SEQN\", how=\"inner\")\n",
    "\n",
    "# Select relevant features\n",
    "final_columns = [\n",
    "    \"SEQN\",  # Unique ID\n",
    "    \"DR1TKCAL\", \"DR1TPROT\", \"DR1TCARB\", \"DR1TSUGR\", \"DR1TFIBE\", \"DR1TTFAT\", \"DR1TSFAT\", \"DR1TMFAT\", \"DR1TPFAT\",  # Day 1 Nutrients\n",
    "    \"DR2TKCAL\", \"DR2TPROT\", \"DR2TCARB\", \"DR2TSUGR\", \"DR2TFIBE\", \"DR2TTFAT\", \"DR2TSFAT\", \"DR2TMFAT\", \"DR2TPFAT\",  # Day 2 Nutrients\n",
    "    \"DBQ700\", \"DBQ197\",  # Dietary Behavior\n",
    "    \"RIDAGEYR\", \"RIAGENDR\", \"INDFMPIR\",  # Demographics & Socioeconomic\n",
    "    \"BMXBMI\",  # BMI\n",
    "    \"DIQ010\"  # Diabetes status\n",
    "]\n",
    "\n",
    "# Retain only available columns\n",
    "df = df[[col for col in final_columns if col in df.columns]]\n",
    "\n",
    "# Convert non-numeric values to NaN before computing median\n",
    "for col in df.columns:\n",
    "    df[col] = pd.to_numeric(df[col], errors='coerce')\n",
    "\n",
    "# Handle missing values: Fill NaNs with column medians\n",
    "df.fillna(df.median(), inplace=True)\n",
    "\n",
    "# Normalize numerical features for clustering\n",
    "numeric_features = [col for col in df.columns if col not in [\"SEQN\", \"RIAGENDR\", \"DIQ010\"]]\n",
    "scaler = StandardScaler()\n",
    "df[numeric_features] = scaler.fit_transform(df[numeric_features])\n",
    "\n",
    "# Save final dataset\n",
    "df.to_csv(\"NHANES_2021_Dietary_Clustering.csv\", index=False)\n",
    "\n",
    "print(\"Final dataset saved as 'NHANES_2021_Dietary_Clustering.csv'\")\n"
   ]
  }
 ],
 "metadata": {
  "kernelspec": {
   "display_name": "trainingArc",
   "language": "python",
   "name": "python3"
  },
  "language_info": {
   "codemirror_mode": {
    "name": "ipython",
    "version": 3
   },
   "file_extension": ".py",
   "mimetype": "text/x-python",
   "name": "python",
   "nbconvert_exporter": "python",
   "pygments_lexer": "ipython3",
   "version": "3.12.4"
  }
 },
 "nbformat": 4,
 "nbformat_minor": 2
}
